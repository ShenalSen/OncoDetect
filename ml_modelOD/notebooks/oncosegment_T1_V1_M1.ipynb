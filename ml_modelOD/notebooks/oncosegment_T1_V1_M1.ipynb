{
 "cells": [
  {
   "cell_type": "markdown",
   "metadata": {},
   "source": [
    "# Breast Cancer Detection Model Development"
   ]
  },
  {
   "cell_type": "markdown",
   "metadata": {},
   "source": [
    "### Step 1: Install Required Libraries\n",
    "The required libraries for the project are installed using the `pip` package manager. These include:\n",
    "\n",
    "- **TensorFlow**: For deep learning and neural network implementation.\n",
    "- **Keras**: High-level API for building and training deep learning models.\n",
    "- **NumPy**: For numerical operations and array handling.\n",
    "- **Pandas**: For data manipulation and analysis.\n",
    "- **Scikit-learn**: For machine learning and evaluation metrics.\n",
    "- **Matplotlib**: For data visualization.\n",
    "- **OpenCV**: For image processing tasks."
   ]
  },
  {
   "cell_type": "code",
   "execution_count": null,
   "metadata": {},
   "outputs": [],
   "source": [
    "%pip install tensorflow keras numpy pandas scikit-learn matplotlib opencv-python"
   ]
  },
  {
   "cell_type": "markdown",
   "metadata": {},
   "source": [
    "### Step 2: Import Libraries\n",
    "Essential libraries are imported to support data preprocessing, model creation, and visualization. \n",
    "- `EfficientNetB0` is used as the base model for transfer learning.\n",
    "- `ImageDataGenerator` helps with real-time data augmentation.\n",
    "- `Dense`, `Flatten`, and `Dropout` layers are used to create a custom classification head."
   ]
  },
  {
   "cell_type": "code",
   "execution_count": 4,
   "metadata": {},
   "outputs": [],
   "source": [
    "import numpy as np\n",
    "import matplotlib.pyplot as plt\n",
    "from tensorflow.keras.applications import EfficientNetB0 # type: ignore\n",
    "from tensorflow.keras.preprocessing.image import ImageDataGenerator # type: ignore\n",
    "from tensorflow.keras.layers import Dense, Flatten, Dropout # type: ignore\n",
    "from tensorflow.keras.models import Model # type: ignore\n",
    "from tensorflow.keras.optimizers import Adam # type: ignore"
   ]
  },
  {
   "cell_type": "markdown",
   "metadata": {},
   "source": [
    "### Step 3: Load and Configure the Pretrained Model\n",
    "\n",
    "1. **EfficientNetB0 Pretrained Model**: Loaded with weights from the `ImageNet` dataset and configured to exclude the top layers for transfer learning.\n",
    "\n",
    "2. **Freezing Layers**: All layers in the base model are frozen to prevent updating their weights during training.\n",
    "\n",
    "3. **Custom Classification Head**: A new fully connected head is added to adapt the model for binary classification (breast cancer detection).\n",
    "   - `Flatten`: Flattens the output of the base model.\n",
    "   - `Dense(128)`: A dense layer with 128 neurons and ReLU activation.\n",
    "   - `Dropout(0.5)`: Dropout layer to prevent overfitting.\n",
    "   - `Dense(1, activation='sigmoid')`: Output layer with sigmoid activation for binary classification.\n",
    "   \n",
    "4. **Compilation**: The model is compiled with:\n",
    "   - **Adam optimizer**: For adaptive learning rate.\n",
    "   - **Binary cross-entropy loss**: For binary classification tasks.\n",
    "   - **Metrics**: Accuracy and AUC (Area Under the Curve)."
   ]
  },
  {
   "cell_type": "code",
   "execution_count": null,
   "metadata": {},
   "outputs": [],
   "source": [
    "base_model = EfficientNetB0(weights='imagenet', include_top=False, input_shape=(224, 224, 3))\n",
    "for layer in base_model.layers:\n",
    "    layer.trainable = False\n",
    "\n",
    "x = base_model.output\n",
    "x = Flatten()(x)\n",
    "x = Dense(128, activation='relu')(x)\n",
    "x = Dropout(0.5)(x)\n",
    "output = Dense(1, activation='sigmoid')(x)\n",
    "\n",
    "model = Model(inputs=base_model.input, outputs=output)\n",
    "model.compile(optimizer='adam', loss='binary_crossentropy', metrics=['accuracy', 'AUC'])"
   ]
  },
  {
   "cell_type": "markdown",
   "metadata": {},
   "source": []
  },
  {
   "cell_type": "code",
   "execution_count": null,
   "metadata": {},
   "outputs": [],
   "source": []
  },
  {
   "cell_type": "markdown",
   "metadata": {},
   "source": []
  },
  {
   "cell_type": "code",
   "execution_count": null,
   "metadata": {},
   "outputs": [],
   "source": []
  },
  {
   "cell_type": "markdown",
   "metadata": {},
   "source": []
  },
  {
   "cell_type": "code",
   "execution_count": null,
   "metadata": {},
   "outputs": [],
   "source": []
  },
  {
   "cell_type": "markdown",
   "metadata": {},
   "source": []
  },
  {
   "cell_type": "code",
   "execution_count": null,
   "metadata": {},
   "outputs": [],
   "source": []
  }
 ],
 "metadata": {
  "kernelspec": {
   "display_name": "base",
   "language": "python",
   "name": "python3"
  },
  "language_info": {
   "codemirror_mode": {
    "name": "ipython",
    "version": 3
   },
   "file_extension": ".py",
   "mimetype": "text/x-python",
   "name": "python",
   "nbconvert_exporter": "python",
   "pygments_lexer": "ipython3",
   "version": "3.11.7"
  }
 },
 "nbformat": 4,
 "nbformat_minor": 2
}
